{
 "cells": [
  {
   "cell_type": "markdown",
   "metadata": {},
   "source": [
    "# Parkfield`s Earthquakes\n",
    "\n",
    "In this project I am exploring the earthquakes in Parkfield, California.\n",
    "Parkfield lies along the San Andreas Fault, one of the longest and most active faults in the United States. \n",
    "Here in this project I am analyzing the magnituds and the timings of when the earthquekes happen.\n",
    "The data set is taken from https://earthquake.usgs.gov/research/parkfield/livedata.php"
   ]
  },
  {
   "cell_type": "code",
   "execution_count": 245,
   "metadata": {},
   "outputs": [],
   "source": [
    "#Necessary imports\n",
    "import numpy as np\n",
    "import pandas as pd\n",
    "import matplotlib.pyplot as plt\n",
    "import seaborn as sns\n",
    "%matplotlib inline\n",
    "from statsmodels.distributions.empirical_distribution import ECDF\n",
    "import datetime\n",
    "import scipy.stats as ss"
   ]
  },
  {
   "cell_type": "markdown",
   "metadata": {},
   "source": [
    "### Read Data\n",
    "After the nexessary imports are done, we will read the data into a dataframe and save the magnitudes in numpy array.\n",
    "We will make some exploratory data analysis of the magnitudes."
   ]
  },
  {
   "cell_type": "code",
   "execution_count": 104,
   "metadata": {},
   "outputs": [],
   "source": [
    "df=pd.read_csv('earthquakes.csv')"
   ]
  },
  {
   "cell_type": "code",
   "execution_count": 105,
   "metadata": {},
   "outputs": [
    {
     "data": {
      "text/html": [
       "<div>\n",
       "<style scoped>\n",
       "    .dataframe tbody tr th:only-of-type {\n",
       "        vertical-align: middle;\n",
       "    }\n",
       "\n",
       "    .dataframe tbody tr th {\n",
       "        vertical-align: top;\n",
       "    }\n",
       "\n",
       "    .dataframe thead th {\n",
       "        text-align: right;\n",
       "    }\n",
       "</style>\n",
       "<table border=\"1\" class=\"dataframe\">\n",
       "  <thead>\n",
       "    <tr style=\"text-align: right;\">\n",
       "      <th></th>\n",
       "      <th>time</th>\n",
       "      <th>latitude</th>\n",
       "      <th>longitude</th>\n",
       "      <th>depth</th>\n",
       "      <th>mag</th>\n",
       "      <th>magType</th>\n",
       "      <th>nst</th>\n",
       "      <th>gap</th>\n",
       "      <th>dmin</th>\n",
       "      <th>rms</th>\n",
       "      <th>...</th>\n",
       "      <th>depthError</th>\n",
       "      <th>magError</th>\n",
       "      <th>magNst</th>\n",
       "      <th>status</th>\n",
       "      <th>locationSource</th>\n",
       "      <th>magSource</th>\n",
       "      <th>loc_name</th>\n",
       "      <th>loc_admin1</th>\n",
       "      <th>loc_admin2</th>\n",
       "      <th>loc_cc</th>\n",
       "    </tr>\n",
       "  </thead>\n",
       "  <tbody>\n",
       "    <tr>\n",
       "      <th>0</th>\n",
       "      <td>1951-10-03 13:44:33.170</td>\n",
       "      <td>35.869333</td>\n",
       "      <td>-120.451000</td>\n",
       "      <td>6.0</td>\n",
       "      <td>3.67</td>\n",
       "      <td>ml</td>\n",
       "      <td>6.0</td>\n",
       "      <td>259.0</td>\n",
       "      <td>1.5480</td>\n",
       "      <td>0.43</td>\n",
       "      <td>...</td>\n",
       "      <td>31.61</td>\n",
       "      <td>0.154</td>\n",
       "      <td>10.0</td>\n",
       "      <td>reviewed</td>\n",
       "      <td>ci</td>\n",
       "      <td>ci</td>\n",
       "      <td>Shandon</td>\n",
       "      <td>California</td>\n",
       "      <td>San Luis Obispo County</td>\n",
       "      <td>US</td>\n",
       "    </tr>\n",
       "    <tr>\n",
       "      <th>1</th>\n",
       "      <td>1953-05-28 07:58:34.510</td>\n",
       "      <td>36.004167</td>\n",
       "      <td>-120.501167</td>\n",
       "      <td>6.0</td>\n",
       "      <td>3.61</td>\n",
       "      <td>ml</td>\n",
       "      <td>7.0</td>\n",
       "      <td>296.0</td>\n",
       "      <td>0.9139</td>\n",
       "      <td>0.39</td>\n",
       "      <td>...</td>\n",
       "      <td>31.61</td>\n",
       "      <td>NaN</td>\n",
       "      <td>1.0</td>\n",
       "      <td>reviewed</td>\n",
       "      <td>ci</td>\n",
       "      <td>ci</td>\n",
       "      <td>Coalinga</td>\n",
       "      <td>California</td>\n",
       "      <td>Fresno County</td>\n",
       "      <td>US</td>\n",
       "    </tr>\n",
       "    <tr>\n",
       "      <th>2</th>\n",
       "      <td>1961-12-14 11:51:15.410</td>\n",
       "      <td>35.970000</td>\n",
       "      <td>-120.470167</td>\n",
       "      <td>6.0</td>\n",
       "      <td>3.95</td>\n",
       "      <td>ml</td>\n",
       "      <td>12.0</td>\n",
       "      <td>297.0</td>\n",
       "      <td>0.8718</td>\n",
       "      <td>0.51</td>\n",
       "      <td>...</td>\n",
       "      <td>31.61</td>\n",
       "      <td>0.070</td>\n",
       "      <td>11.0</td>\n",
       "      <td>reviewed</td>\n",
       "      <td>ci</td>\n",
       "      <td>ci</td>\n",
       "      <td>Coalinga</td>\n",
       "      <td>California</td>\n",
       "      <td>Fresno County</td>\n",
       "      <td>US</td>\n",
       "    </tr>\n",
       "    <tr>\n",
       "      <th>3</th>\n",
       "      <td>1965-02-21 18:39:24.500</td>\n",
       "      <td>35.881000</td>\n",
       "      <td>-120.383500</td>\n",
       "      <td>6.0</td>\n",
       "      <td>3.54</td>\n",
       "      <td>ml</td>\n",
       "      <td>10.0</td>\n",
       "      <td>257.0</td>\n",
       "      <td>1.5380</td>\n",
       "      <td>0.56</td>\n",
       "      <td>...</td>\n",
       "      <td>31.61</td>\n",
       "      <td>0.048</td>\n",
       "      <td>11.0</td>\n",
       "      <td>reviewed</td>\n",
       "      <td>ci</td>\n",
       "      <td>ci</td>\n",
       "      <td>Shandon</td>\n",
       "      <td>California</td>\n",
       "      <td>San Luis Obispo County</td>\n",
       "      <td>US</td>\n",
       "    </tr>\n",
       "    <tr>\n",
       "      <th>4</th>\n",
       "      <td>1966-06-28 04:18:36.180</td>\n",
       "      <td>35.856500</td>\n",
       "      <td>-120.446167</td>\n",
       "      <td>6.0</td>\n",
       "      <td>3.15</td>\n",
       "      <td>ml</td>\n",
       "      <td>7.0</td>\n",
       "      <td>259.0</td>\n",
       "      <td>1.3120</td>\n",
       "      <td>0.32</td>\n",
       "      <td>...</td>\n",
       "      <td>31.61</td>\n",
       "      <td>0.105</td>\n",
       "      <td>7.0</td>\n",
       "      <td>reviewed</td>\n",
       "      <td>ci</td>\n",
       "      <td>ci</td>\n",
       "      <td>Shandon</td>\n",
       "      <td>California</td>\n",
       "      <td>San Luis Obispo County</td>\n",
       "      <td>US</td>\n",
       "    </tr>\n",
       "  </tbody>\n",
       "</table>\n",
       "<p>5 rows × 26 columns</p>\n",
       "</div>"
      ],
      "text/plain": [
       "                      time   latitude   longitude  depth   mag magType   nst  \\\n",
       "0  1951-10-03 13:44:33.170  35.869333 -120.451000    6.0  3.67      ml   6.0   \n",
       "1  1953-05-28 07:58:34.510  36.004167 -120.501167    6.0  3.61      ml   7.0   \n",
       "2  1961-12-14 11:51:15.410  35.970000 -120.470167    6.0  3.95      ml  12.0   \n",
       "3  1965-02-21 18:39:24.500  35.881000 -120.383500    6.0  3.54      ml  10.0   \n",
       "4  1966-06-28 04:18:36.180  35.856500 -120.446167    6.0  3.15      ml   7.0   \n",
       "\n",
       "     gap    dmin   rms  ...   depthError magError magNst    status  \\\n",
       "0  259.0  1.5480  0.43  ...        31.61    0.154   10.0  reviewed   \n",
       "1  296.0  0.9139  0.39  ...        31.61      NaN    1.0  reviewed   \n",
       "2  297.0  0.8718  0.51  ...        31.61    0.070   11.0  reviewed   \n",
       "3  257.0  1.5380  0.56  ...        31.61    0.048   11.0  reviewed   \n",
       "4  259.0  1.3120  0.32  ...        31.61    0.105    7.0  reviewed   \n",
       "\n",
       "  locationSource  magSource  loc_name  loc_admin1              loc_admin2  \\\n",
       "0             ci         ci   Shandon  California  San Luis Obispo County   \n",
       "1             ci         ci  Coalinga  California           Fresno County   \n",
       "2             ci         ci  Coalinga  California           Fresno County   \n",
       "3             ci         ci   Shandon  California  San Luis Obispo County   \n",
       "4             ci         ci   Shandon  California  San Luis Obispo County   \n",
       "\n",
       "  loc_cc  \n",
       "0     US  \n",
       "1     US  \n",
       "2     US  \n",
       "3     US  \n",
       "4     US  \n",
       "\n",
       "[5 rows x 26 columns]"
      ]
     },
     "execution_count": 105,
     "metadata": {},
     "output_type": "execute_result"
    }
   ],
   "source": [
    "df.head()"
   ]
  },
  {
   "cell_type": "code",
   "execution_count": 106,
   "metadata": {},
   "outputs": [],
   "source": [
    "magnitudes = df.mag.values"
   ]
  },
  {
   "cell_type": "code",
   "execution_count": 107,
   "metadata": {},
   "outputs": [
    {
     "data": {
      "text/plain": [
       "array([3.67, 3.61, 3.95, ..., 0.61, 0.33, 0.7 ])"
      ]
     },
     "execution_count": 107,
     "metadata": {},
     "output_type": "execute_result"
    }
   ],
   "source": [
    "magnitudes"
   ]
  },
  {
   "cell_type": "markdown",
   "metadata": {},
   "source": [
    "### EDA of magnitudes\n",
    "\n",
    "Now, let`s make some exploratory data analysis"
   ]
  },
  {
   "cell_type": "code",
   "execution_count": 108,
   "metadata": {},
   "outputs": [
    {
     "data": {
      "text/plain": [
       "<matplotlib.axes._subplots.AxesSubplot at 0x20796911c18>"
      ]
     },
     "execution_count": 108,
     "metadata": {},
     "output_type": "execute_result"
    },
    {
     "data": {
      "image/png": "[encoded data removed]",
      "text/plain": [
       "<Figure size 432x288 with 1 Axes>"
      ]
     },
     "metadata": {
      "needs_background": "light"
     },
     "output_type": "display_data"
    }
   ],
   "source": [
    "sns.boxplot(magnitudes)"
   ]
  },
  {
   "cell_type": "code",
   "execution_count": 109,
   "metadata": {},
   "outputs": [
    {
     "data": {
      "text/plain": [
       "(array([1.653e+03, 4.594e+03, 2.380e+03, 8.310e+02, 3.060e+02, 1.700e+02,\n",
       "        3.600e+01, 1.100e+01, 8.000e+00, 2.000e+00]),\n",
       " array([0.   , 0.597, 1.194, 1.791, 2.388, 2.985, 3.582, 4.179, 4.776,\n",
       "        5.373, 5.97 ]),\n",
       " <a list of 10 Patch objects>)"
      ]
     },
     "execution_count": 109,
     "metadata": {},
     "output_type": "execute_result"
    },
    {
     "data": {
      "image/png": "[encoded data removed]",
      "text/plain": [
       "<Figure size 432x288 with 1 Axes>"
      ]
     },
     "metadata": {
      "needs_background": "light"
     },
     "output_type": "display_data"
    }
   ],
   "source": [
    "plt.hist(magnitudes)"
   ]
  },
  {
   "cell_type": "code",
   "execution_count": 110,
   "metadata": {},
   "outputs": [
    {
     "data": {
      "text/plain": [
       "count    9991.000000\n",
       "mean        1.154315\n",
       "std         0.662153\n",
       "min         0.000000\n",
       "25%         0.750000\n",
       "50%         1.080000\n",
       "75%         1.400000\n",
       "max         5.970000\n",
       "Name: mag, dtype: float64"
      ]
     },
     "execution_count": 110,
     "metadata": {},
     "output_type": "execute_result"
    }
   ],
   "source": [
    "df.mag.describe()"
   ]
  },
  {
   "cell_type": "markdown",
   "metadata": {},
   "source": [
    "We can see that most of the magnitudes are at around one, but there are also ouliers, which result in very big earthquakes.\n",
    "To better understand how the magnitudes are distributed, let`s explore the CDF."
   ]
  },
  {
   "cell_type": "code",
   "execution_count": 111,
   "metadata": {},
   "outputs": [
    {
     "data": {
      "image/png": "[encoded data removed]",
      "text/plain": [
       "<Figure size 432x288 with 1 Axes>"
      ]
     },
     "metadata": {
      "needs_background": "light"
     },
     "output_type": "display_data"
    }
   ],
   "source": [
    "cdf = ECDF(magnitudes)\n",
    "_ = plt.plot(cdf.x, cdf.y, marker=\".\", markerfacecolor='none')\n",
    "_ = plt.xlabel('magnitudes')\n",
    "_ = plt.ylabel('ecdf')\n",
    "#_ = plt.legend(\"hh\")"
   ]
  },
  {
   "cell_type": "code",
   "execution_count": 112,
   "metadata": {},
   "outputs": [
    {
     "data": {
      "image/png": "[encoded data removed]",
      "text/plain": [
       "<Figure size 432x288 with 1 Axes>"
      ]
     },
     "metadata": {
      "needs_background": "light"
     },
     "output_type": "display_data"
    }
   ],
   "source": [
    "cdf_1 = ECDF(magnitudes[magnitudes>1])\n",
    "_ = plt.plot(cdf_1.x,cdf_1.y,marker='.',linestyle='none')\n",
    "_ = plt.xlabel('magnitudes greated than 1')\n",
    "_ = plt.ylabel('ecdf')"
   ]
  },
  {
   "cell_type": "code",
   "execution_count": 113,
   "metadata": {},
   "outputs": [
    {
     "data": {
      "image/png": "[encoded data removed]",
      "text/plain": [
       "<Figure size 432x288 with 1 Axes>"
      ]
     },
     "metadata": {
      "needs_background": "light"
     },
     "output_type": "display_data"
    }
   ],
   "source": [
    "_ = plt.plot(cdf_1.x,cdf_1.y,marker='.',linestyle='none',color='red')\n",
    "_ = plt.plot(cdf.x, cdf.y, marker=\".\", markerfacecolor='blue')\n",
    "cdf_3 = ECDF(magnitudes[magnitudes>=3])\n",
    "_ = plt.plot(cdf_3.x,cdf_3.y,marker='.',color='green')"
   ]
  },
  {
   "cell_type": "markdown",
   "metadata": {},
   "source": [
    "It looks like magnitudes greater than 1 are following exponential distribution. \n",
    "This shift of the CDF (magnitude of 1) on the x axes is called location parameter. In seismology, the location parameter\n",
    "is called the magnitude of completeness (Mt)(completeness treshhold) and is defined as the minimum magnitude above which all earthquakes within a certain region are reliably recorded. \n",
    "This distribution of the magnitudes in fact, is summarized in Gutenberg–Richter law which states that the magnitudes of earthquakes in a given region over a given time are Exponentially distributed. The optimal parameter is given by the difference between the mean of the magnitudes and the completeness treshold (Mmean - Mt). Usualy, seismologists multiply this value with Ln10 and they get a parameter called b-value defines as b = (Mmean - Mt)*ln10. For seismology active regions, b has values of around 1. Let`s now explore the b value of parkfield region and it`s confidence interval. For convinience we will compare the cdf of the magnitudes with the theorethical exponential cdf."
   ]
  },
  {
   "cell_type": "code",
   "execution_count": 114,
   "metadata": {},
   "outputs": [],
   "source": [
    "mt = 1 # we will take mt=3 as there are a lot of magnitudes with value of 3\n",
    "m = magnitudes[magnitudes>mt]\n",
    "b = (np.mean(m)-mt)*np.log(10)"
   ]
  },
  {
   "cell_type": "code",
   "execution_count": 115,
   "metadata": {},
   "outputs": [
    {
     "data": {
      "text/plain": [
       "1.247747323645304"
      ]
     },
     "execution_count": 115,
     "metadata": {},
     "output_type": "execute_result"
    }
   ],
   "source": [
    "b"
   ]
  },
  {
   "cell_type": "code",
   "execution_count": 116,
   "metadata": {},
   "outputs": [],
   "source": [
    "#We will create 10 000 bootstrap replicates for the mean of m and compute confidence intervals\n",
    "reps=np.empty(10000)\n",
    "b_reps = np.empty(10000)\n",
    "for i in range(10000):\n",
    "    reps[i] = np.mean(np.random.choice(m,len(m)))\n",
    "    b_reps[i] = (reps[i]-mt)*np.log(10)"
   ]
  },
  {
   "cell_type": "code",
   "execution_count": 117,
   "metadata": {},
   "outputs": [],
   "source": [
    "conf_int = np.percentile(b_reps,[2.5,97.5])"
   ]
  },
  {
   "cell_type": "code",
   "execution_count": 118,
   "metadata": {},
   "outputs": [
    {
     "data": {
      "text/plain": [
       "array([1.21316001, 1.28336334])"
      ]
     },
     "execution_count": 118,
     "metadata": {},
     "output_type": "execute_result"
    }
   ],
   "source": [
    "conf_int"
   ]
  },
  {
   "cell_type": "code",
   "execution_count": 119,
   "metadata": {},
   "outputs": [],
   "source": [
    "ecdf_t = ECDF(np.random.exponential((b/np.log(10)),size = len(magnitudes))+mt)"
   ]
  },
  {
   "cell_type": "code",
   "execution_count": 120,
   "metadata": {},
   "outputs": [
    {
     "data": {
      "image/png": "[encoded data removed]",
      "text/plain": [
       "<Figure size 432x288 with 1 Axes>"
      ]
     },
     "metadata": {
      "needs_background": "light"
     },
     "output_type": "display_data"
    }
   ],
   "source": [
    "_ = plt.plot(cdf_1.x,cdf_1.y,marker='.',linestyle='none',color='pink')\n",
    "_ = plt.plot(ecdf_t.x,ecdf_t.y,marker='.',linestyle='none',color='lightblue',alpha = 0.8)\n",
    "_ = plt.xlabel('magnitudes')\n",
    "_ = plt.ylabel('ecdf')\n",
    "_ = plt.legend(['experimental cdf','theoretical cdf'])"
   ]
  },
  {
   "cell_type": "markdown",
   "metadata": {},
   "source": [
    "We got a b-value of around 1.25 which is expected for seismicaly active regions.Parkfield seems to follow Gutenberg`s law,the magnitudes indeed, follow Exponential distribution."
   ]
  },
  {
   "cell_type": "code",
   "execution_count": 122,
   "metadata": {},
   "outputs": [
    {
     "data": {
      "text/html": [
       "<div>\n",
       "<style scoped>\n",
       "    .dataframe tbody tr th:only-of-type {\n",
       "        vertical-align: middle;\n",
       "    }\n",
       "\n",
       "    .dataframe tbody tr th {\n",
       "        vertical-align: top;\n",
       "    }\n",
       "\n",
       "    .dataframe thead th {\n",
       "        text-align: right;\n",
       "    }\n",
       "</style>\n",
       "<table border=\"1\" class=\"dataframe\">\n",
       "  <thead>\n",
       "    <tr style=\"text-align: right;\">\n",
       "      <th></th>\n",
       "      <th>time</th>\n",
       "      <th>latitude</th>\n",
       "      <th>longitude</th>\n",
       "      <th>depth</th>\n",
       "      <th>mag</th>\n",
       "      <th>magType</th>\n",
       "      <th>nst</th>\n",
       "      <th>gap</th>\n",
       "      <th>dmin</th>\n",
       "      <th>rms</th>\n",
       "      <th>...</th>\n",
       "      <th>depthError</th>\n",
       "      <th>magError</th>\n",
       "      <th>magNst</th>\n",
       "      <th>status</th>\n",
       "      <th>locationSource</th>\n",
       "      <th>magSource</th>\n",
       "      <th>loc_name</th>\n",
       "      <th>loc_admin1</th>\n",
       "      <th>loc_admin2</th>\n",
       "      <th>loc_cc</th>\n",
       "    </tr>\n",
       "  </thead>\n",
       "  <tbody>\n",
       "    <tr>\n",
       "      <th>5</th>\n",
       "      <td>1966-06-28 04:26:16.260</td>\n",
       "      <td>35.790500</td>\n",
       "      <td>-120.294000</td>\n",
       "      <td>6.000</td>\n",
       "      <td>5.47</td>\n",
       "      <td>ml</td>\n",
       "      <td>15.0</td>\n",
       "      <td>247.0</td>\n",
       "      <td>1.18300</td>\n",
       "      <td>0.48</td>\n",
       "      <td>...</td>\n",
       "      <td>31.61</td>\n",
       "      <td>0.075</td>\n",
       "      <td>8.0</td>\n",
       "      <td>reviewed</td>\n",
       "      <td>ci</td>\n",
       "      <td>ci</td>\n",
       "      <td>Shandon</td>\n",
       "      <td>California</td>\n",
       "      <td>San Luis Obispo County</td>\n",
       "      <td>US</td>\n",
       "    </tr>\n",
       "    <tr>\n",
       "      <th>3153</th>\n",
       "      <td>2004-09-28 17:15:24.250</td>\n",
       "      <td>35.818167</td>\n",
       "      <td>-120.366000</td>\n",
       "      <td>8.136</td>\n",
       "      <td>5.97</td>\n",
       "      <td>mw</td>\n",
       "      <td>61.0</td>\n",
       "      <td>26.0</td>\n",
       "      <td>0.01622</td>\n",
       "      <td>0.04</td>\n",
       "      <td>...</td>\n",
       "      <td>0.25</td>\n",
       "      <td>NaN</td>\n",
       "      <td>4.0</td>\n",
       "      <td>reviewed</td>\n",
       "      <td>nc</td>\n",
       "      <td>nc</td>\n",
       "      <td>Shandon</td>\n",
       "      <td>California</td>\n",
       "      <td>San Luis Obispo County</td>\n",
       "      <td>US</td>\n",
       "    </tr>\n",
       "    <tr>\n",
       "      <th>3810</th>\n",
       "      <td>2004-09-29 17:10:04.960</td>\n",
       "      <td>35.885502</td>\n",
       "      <td>-120.505837</td>\n",
       "      <td>-0.457</td>\n",
       "      <td>5.04</td>\n",
       "      <td>mw</td>\n",
       "      <td>158.0</td>\n",
       "      <td>161.0</td>\n",
       "      <td>NaN</td>\n",
       "      <td>0.25</td>\n",
       "      <td>...</td>\n",
       "      <td>14.26</td>\n",
       "      <td>NaN</td>\n",
       "      <td>6.0</td>\n",
       "      <td>reviewed</td>\n",
       "      <td>ci</td>\n",
       "      <td>ci</td>\n",
       "      <td>San Miguel</td>\n",
       "      <td>California</td>\n",
       "      <td>San Luis Obispo County</td>\n",
       "      <td>US</td>\n",
       "    </tr>\n",
       "  </tbody>\n",
       "</table>\n",
       "<p>3 rows × 26 columns</p>\n",
       "</div>"
      ],
      "text/plain": [
       "                         time   latitude   longitude  depth   mag magType  \\\n",
       "5     1966-06-28 04:26:16.260  35.790500 -120.294000  6.000  5.47      ml   \n",
       "3153  2004-09-28 17:15:24.250  35.818167 -120.366000  8.136  5.97      mw   \n",
       "3810  2004-09-29 17:10:04.960  35.885502 -120.505837 -0.457  5.04      mw   \n",
       "\n",
       "        nst    gap     dmin   rms  ...   depthError magError magNst    status  \\\n",
       "5      15.0  247.0  1.18300  0.48  ...        31.61    0.075    8.0  reviewed   \n",
       "3153   61.0   26.0  0.01622  0.04  ...         0.25      NaN    4.0  reviewed   \n",
       "3810  158.0  161.0      NaN  0.25  ...        14.26      NaN    6.0  reviewed   \n",
       "\n",
       "     locationSource  magSource    loc_name  loc_admin1  \\\n",
       "5                ci         ci     Shandon  California   \n",
       "3153             nc         nc     Shandon  California   \n",
       "3810             ci         ci  San Miguel  California   \n",
       "\n",
       "                  loc_admin2 loc_cc  \n",
       "5     San Luis Obispo County     US  \n",
       "3153  San Luis Obispo County     US  \n",
       "3810  San Luis Obispo County     US  \n",
       "\n",
       "[3 rows x 26 columns]"
      ]
     },
     "execution_count": 122,
     "metadata": {},
     "output_type": "execute_result"
    }
   ],
   "source": [
    "df[df.mag>5]"
   ]
  },
  {
   "cell_type": "markdown",
   "metadata": {},
   "source": [
    "### Timings of Earthquakes in Parkfield"
   ]
  },
  {
   "cell_type": "markdown",
   "metadata": {},
   "source": [
    "Now we will explore the timings of the earthquakes. Region of Parkfield is in the center of the Seismologists interest,\n",
    "and there is a whole project named The Parkfield Experiment in which the Scientists try to predict when the next earthquake will happen.\n",
    "Let`s now see what story follow the time gaps in years between the major earthquakes in Parkfield. What is their distribution? In the recent years, there have been 6 major earthquakes ,with magnitudes of around 6, in San Andreas fault. They have happened on the following dates:\n",
    "\n",
    "9 January 1857,\n",
    "2 February 1881,\n",
    "3 March 1901,\n",
    "10 March 1922,\n",
    "8 June 1934,\n",
    "28 June 1966,\n",
    "28 September 2004\n",
    "\n",
    "The difference in years between the times when these major earthquakes happen, I have stored in list time_diff and are taken from:\n",
    "\n",
    "https://earthquake.usgs.gov/research/parkfield/bakunLindh85.html"
   ]
  },
  {
   "cell_type": "code",
   "execution_count": 141,
   "metadata": {},
   "outputs": [],
   "source": [
    "time_diff=[24.06575342, 20.08607305,21.01917808,12.24611872,32.05479452, 38.25]"
   ]
  },
  {
   "cell_type": "code",
   "execution_count": 154,
   "metadata": {},
   "outputs": [
    {
     "data": {
      "image/png": "[encoded data removed]",
      "text/plain": [
       "<Figure size 432x288 with 1 Axes>"
      ]
     },
     "metadata": {
      "needs_background": "light"
     },
     "output_type": "display_data"
    }
   ],
   "source": [
    "cdf_time = ECDF(time_diff)\n",
    "_ = plt.plot(cdf_time.x,cdf_time.y,marker='*',linestyle='-.')\n",
    "_ = plt.xlabel('time gaps')\n",
    "_ = plt.ylabel('ECDF')"
   ]
  },
  {
   "cell_type": "markdown",
   "metadata": {},
   "source": [
    "With 6 data points, eyebowling the ECDf it is hard to tell which distribution it follows. On the same figure we will plot Exponential and Normal to check which one suits better. We will use the mean and standard deviation from time_diff array."
   ]
  },
  {
   "cell_type": "code",
   "execution_count": 158,
   "metadata": {},
   "outputs": [],
   "source": [
    "time_mean = np.mean(time_diff)\n",
    "time_std = np.std(time_diff)"
   ]
  },
  {
   "cell_type": "code",
   "execution_count": 160,
   "metadata": {},
   "outputs": [],
   "source": [
    "exp  = np.random.exponential(time_mean,size=10000)\n",
    "norm = np.random.normal(time_mean,time_std,size=10000)\n",
    "exp_cdf = ECDF(exp)\n",
    "norm_cdf=ECDF(norm)"
   ]
  },
  {
   "cell_type": "code",
   "execution_count": 244,
   "metadata": {},
   "outputs": [
    {
     "data": {
      "image/png": "[encoded data removed]",
      "text/plain": [
       "<Figure size 432x288 with 1 Axes>"
      ]
     },
     "metadata": {
      "needs_background": "light"
     },
     "output_type": "display_data"
    }
   ],
   "source": [
    "_ = plt.plot(cdf_time.x,cdf_time.y,marker='*',linestyle='-.',drawstyle='steps-pre')\n",
    "#_ = plt.step(cdf_time.x,cdf_time.y)\n",
    "_ = plt.plot(exp_cdf.x,exp_cdf.y, marker = '.',linestyle='none', color='red')\n",
    "_ = plt.plot(norm_cdf.x,norm_cdf.y,marker='.',linestyle='none',color='green')\n",
    "_ = plt.xlim(-10,50)\n",
    "_ = plt.legend(['experimental cdf','exponential cdf','normal cdf'])"
   ]
  },
  {
   "cell_type": "markdown",
   "metadata": {},
   "source": []
  },
  {
   "cell_type": "markdown",
   "metadata": {},
   "source": [
    "Seems like Gaussian model better describes the story of Parkfields`s Earthquakes. We will try to see when the next earthquake will happen according to both models, Gaussian and Exponential. We will use time__mean for creating samples from Exponential and time _mean and  time_std as estimates for creating samples from Normal distribution. Then we will compute the confidence intervals for the mean.We will add the year of the last earthquake in order to get the results in years.Because since 2004 up until now there haven't been such major earthquake, we will filter that difference in years. "
   ]
  },
  {
   "cell_type": "code",
   "execution_count": 229,
   "metadata": {},
   "outputs": [],
   "source": [
    "now = datetime.datetime.now()\n",
    "last_earthquake = datetime.datetime(year=2004,month=9,day=28)"
   ]
  },
  {
   "cell_type": "code",
   "execution_count": 230,
   "metadata": {},
   "outputs": [],
   "source": [
    "today = (now.year *365+(now.month-1)*30+now.day)/365\n",
    "last_quake = (last_earthquake.year *365+(last_earthquake.month-1)*30+last_earthquake.day)/365"
   ]
  },
  {
   "cell_type": "code",
   "execution_count": 231,
   "metadata": {},
   "outputs": [
    {
     "data": {
      "text/plain": [
       "2004.7342465753425"
      ]
     },
     "execution_count": 231,
     "metadata": {},
     "output_type": "execute_result"
    }
   ],
   "source": [
    "last_quake"
   ]
  },
  {
   "cell_type": "code",
   "execution_count": 241,
   "metadata": {
    "scrolled": true
   },
   "outputs": [
    {
     "name": "stdout",
     "output_type": "stream",
     "text": [
      "Confidence interval according Exponetial distribution:  [2019.89938002 2036.45293752 2110.6241697 ]\n",
      "Confidence interval according Gaussian distribution:  [2020.17450753 2030.64405085 2046.30537291]\n"
     ]
    }
   ],
   "source": [
    "exp_samples = np.random.exponential(time_mean,size=100000)\n",
    "gaus_samples = np.random.normal(time_mean,time_std,size=100000)\n",
    "conf_int_exp = np.percentile(exp_samples[exp_samples>today-last_quake],[2.5,50,97.5])\n",
    "conf_int_gaus = np.percentile(gaus_samples[gaus_samples>today-last_quake],[2.5,50,97.5])\n",
    "print(\"Confidence interval according Exponetial distribution: \",conf_int_exp+last_quake)\n",
    "print(\"Confidence interval according Gaussian distribution: \",conf_int_gaus+last_quake)"
   ]
  },
  {
   "cell_type": "markdown",
   "metadata": {},
   "source": [
    "According to the confidence intervals, Gaussian model says the next earthquake will happen soon :)"
   ]
  },
  {
   "cell_type": "markdown",
   "metadata": {},
   "source": [
    "### Hypothesis testing"
   ]
  },
  {
   "cell_type": "markdown",
   "metadata": {},
   "source": [
    "We will test the null hypothesis that interearthquake times of the Parkfield major earthquake sequence are Exponentially distributed.\n",
    "We will use Kolmogorov-Smirnov test, as a test statistic we will use the KS statistic.The Kolmogorov–Smirnov statistic quantifies a distance between the empirical distribution function of the sample (in our case the distribution of time_diff) and the cumulative distribution function of the reference distribution (the exponential in our case), or between the empirical distribution functions of two samples. We will simulate a lot of KS replicate under the null hypothesis by creating many samples from Exponential distribution, parametrized with the mean of time_diff. Then we will take 6 points(because we have 6 data points in our time_diff array) out of that distribution and compute the KS statistic between the simulated time_diff and the reference distribution. "
   ]
  },
  {
   "cell_type": "code",
   "execution_count": 258,
   "metadata": {},
   "outputs": [],
   "source": [
    "ref_dist = np.random.exponential(time_mean,size = 100000)\n",
    "d = ss.ks_2samp(ref_dist,time_diff)"
   ]
  },
  {
   "cell_type": "code",
   "execution_count": 259,
   "metadata": {},
   "outputs": [
    {
     "data": {
      "text/plain": [
       "0.39194"
      ]
     },
     "execution_count": 259,
     "metadata": {},
     "output_type": "execute_result"
    }
   ],
   "source": [
    "d.statistic"
   ]
  },
  {
   "cell_type": "code",
   "execution_count": 260,
   "metadata": {},
   "outputs": [],
   "source": [
    "reps = np.empty(10000)\n",
    "for i in range(10000):\n",
    "    simulated_time_diff = np.random.exponential(time_mean,size=len(time_diff))\n",
    "    reps[i]=ss.ks_2samp(ref_dist,simulated_time_diff).statistic"
   ]
  },
  {
   "cell_type": "markdown",
   "metadata": {},
   "source": [
    "We will define the p value as the fraction of the replicates that are greater or equal than the calculated ks statistic from the reference distribution and the time_dii"
   ]
  },
  {
   "cell_type": "code",
   "execution_count": 261,
   "metadata": {},
   "outputs": [
    {
     "name": "stdout",
     "output_type": "stream",
     "text": [
      "p-value =  0.2452\n"
     ]
    }
   ],
   "source": [
    "p = np.sum(reps>=d.statistic)/10000\n",
    "print(\"p-value = \",p)"
   ]
  },
  {
   "cell_type": "markdown",
   "metadata": {},
   "source": [
    "We've got a p value above 0.2. This means we can not reject the null hypothesis, it seems like Parkfield's earthquakes follow the Poisson model.\n",
    "there is about 25 % probability that we can obtain greater than or equal to 0.39194 distance between the two cdfs. "
   ]
  },
  {
   "cell_type": "code",
   "execution_count": null,
   "metadata": {},
   "outputs": [],
   "source": []
  }
 ],
 "metadata": {
  "kernelspec": {
   "display_name": "Python 3",
   "language": "python",
   "name": "python3"
  },
  "language_info": {
   "codemirror_mode": {
    "name": "ipython",
    "version": 3
   },
   "file_extension": ".py",
   "mimetype": "text/x-python",
   "name": "python",
   "nbconvert_exporter": "python",
   "pygments_lexer": "ipython3",
   "version": "3.7.1"
  }
 },
 "nbformat": 4,
 "nbformat_minor": 2
}
